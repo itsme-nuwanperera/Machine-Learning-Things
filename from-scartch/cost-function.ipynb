{
 "cells": [
  {
   "cell_type": "code",
   "execution_count": 5,
   "metadata": {},
   "outputs": [],
   "source": [
    "import numpy as np"
   ]
  },
  {
   "cell_type": "code",
   "execution_count": 6,
   "metadata": {},
   "outputs": [
    {
     "name": "stdout",
     "output_type": "stream",
     "text": [
      "x_train = [1. 2. 3.]\n",
      "y_train = [300. 500. 700.]\n"
     ]
    }
   ],
   "source": [
    "x_train = np.array([1.0, 2.0, 3.0])\n",
    "y_train = np.array([300.0, 500.0, 700.0])\n",
    "\n",
    "print(f'x_train = { x_train }')\n",
    "print(f'y_train = { y_train }')"
   ]
  },
  {
   "cell_type": "markdown",
   "metadata": {},
   "source": [
    "Computing Cost\n",
    "\n",
    "The equation for cost with one variable is:\n",
    "  $$J(w,b) = \\frac{1}{2m} \\sum\\limits_{i = 0}^{m-1} (f_{w,b}(x^{(i)}) - y^{(i)})^2 \\tag{1}$$ \n",
    " \n",
    "where \n",
    "  $$f_{w,b}(x^{(i)}) = wx^{(i)} + b \\tag{2}$$\n"
   ]
  },
  {
   "cell_type": "code",
   "execution_count": 7,
   "metadata": {},
   "outputs": [],
   "source": [
    "def compute_cost(x, y, w, b):\n",
    "  '''\n",
    "  Computes the cost functions for linear regression.\n",
    "\n",
    "  Args:\n",
    "    x (ndarray (m, )): Data, m examples\n",
    "    y (ndarray (m, )): target values\n",
    "    w, b (scalar)    : model parameters\n",
    "\n",
    "    Returns\n",
    "      total_cost (flaot): The cost of using w, b as the parameters for linear regression to fit the data points in x and y\n",
    "  '''\n",
    "  m = x.shape[0]\n",
    "\n",
    "  cost_sum = 0\n",
    "  for i in range(m):\n",
    "    f_wb = w * x[i] + b\n",
    "    cost = (f_wb - y[i]) ** 2\n",
    "    cost_sum += cost\n",
    "  \n",
    "  total_cost = (1 / ( 2*m)) * cost_sum\n",
    "\n",
    "  return total_cost"
   ]
  }
 ],
 "metadata": {
  "kernelspec": {
   "display_name": ".venv",
   "language": "python",
   "name": "python3"
  },
  "language_info": {
   "codemirror_mode": {
    "name": "ipython",
    "version": 3
   },
   "file_extension": ".py",
   "mimetype": "text/x-python",
   "name": "python",
   "nbconvert_exporter": "python",
   "pygments_lexer": "ipython3",
   "version": "3.9.6"
  }
 },
 "nbformat": 4,
 "nbformat_minor": 2
}
