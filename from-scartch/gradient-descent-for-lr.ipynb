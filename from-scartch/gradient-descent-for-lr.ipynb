{
 "cells": [
  {
   "cell_type": "code",
   "execution_count": 1,
   "metadata": {},
   "outputs": [
    {
     "name": "stdout",
     "output_type": "stream",
     "text": [
      "Requirement already satisfied: appnope==0.1.4 in /Users/nuwanperera/Developer/Machine-Learning-Things/.venv/lib/python3.9/site-packages (from -r requerements.txt (line 1)) (0.1.4)\n",
      "Requirement already satisfied: asttokens==2.4.1 in /Users/nuwanperera/Developer/Machine-Learning-Things/.venv/lib/python3.9/site-packages (from -r requerements.txt (line 2)) (2.4.1)\n",
      "Requirement already satisfied: comm==0.2.2 in /Users/nuwanperera/Developer/Machine-Learning-Things/.venv/lib/python3.9/site-packages (from -r requerements.txt (line 3)) (0.2.2)\n",
      "Requirement already satisfied: contourpy==1.2.1 in /Users/nuwanperera/Developer/Machine-Learning-Things/.venv/lib/python3.9/site-packages (from -r requerements.txt (line 4)) (1.2.1)\n",
      "Requirement already satisfied: cycler==0.12.1 in /Users/nuwanperera/Developer/Machine-Learning-Things/.venv/lib/python3.9/site-packages (from -r requerements.txt (line 5)) (0.12.1)\n",
      "Requirement already satisfied: debugpy==1.8.1 in /Users/nuwanperera/Developer/Machine-Learning-Things/.venv/lib/python3.9/site-packages (from -r requerements.txt (line 6)) (1.8.1)\n",
      "Requirement already satisfied: decorator==5.1.1 in /Users/nuwanperera/Developer/Machine-Learning-Things/.venv/lib/python3.9/site-packages (from -r requerements.txt (line 7)) (5.1.1)\n",
      "Requirement already satisfied: exceptiongroup==1.2.1 in /Users/nuwanperera/Developer/Machine-Learning-Things/.venv/lib/python3.9/site-packages (from -r requerements.txt (line 8)) (1.2.1)\n",
      "Requirement already satisfied: executing==2.0.1 in /Users/nuwanperera/Developer/Machine-Learning-Things/.venv/lib/python3.9/site-packages (from -r requerements.txt (line 9)) (2.0.1)\n",
      "Requirement already satisfied: fonttools==4.51.0 in /Users/nuwanperera/Developer/Machine-Learning-Things/.venv/lib/python3.9/site-packages (from -r requerements.txt (line 10)) (4.51.0)\n",
      "Requirement already satisfied: importlib_metadata==7.1.0 in /Users/nuwanperera/Developer/Machine-Learning-Things/.venv/lib/python3.9/site-packages (from -r requerements.txt (line 11)) (7.1.0)\n",
      "Requirement already satisfied: importlib_resources==6.4.0 in /Users/nuwanperera/Developer/Machine-Learning-Things/.venv/lib/python3.9/site-packages (from -r requerements.txt (line 12)) (6.4.0)\n",
      "Requirement already satisfied: ipykernel==6.29.4 in /Users/nuwanperera/Developer/Machine-Learning-Things/.venv/lib/python3.9/site-packages (from -r requerements.txt (line 13)) (6.29.4)\n",
      "Requirement already satisfied: ipython==8.18.1 in /Users/nuwanperera/Developer/Machine-Learning-Things/.venv/lib/python3.9/site-packages (from -r requerements.txt (line 14)) (8.18.1)\n",
      "Requirement already satisfied: jedi==0.19.1 in /Users/nuwanperera/Developer/Machine-Learning-Things/.venv/lib/python3.9/site-packages (from -r requerements.txt (line 15)) (0.19.1)\n",
      "Requirement already satisfied: jupyter_client==8.6.1 in /Users/nuwanperera/Developer/Machine-Learning-Things/.venv/lib/python3.9/site-packages (from -r requerements.txt (line 16)) (8.6.1)\n",
      "Requirement already satisfied: jupyter_core==5.7.2 in /Users/nuwanperera/Developer/Machine-Learning-Things/.venv/lib/python3.9/site-packages (from -r requerements.txt (line 17)) (5.7.2)\n",
      "Requirement already satisfied: kiwisolver==1.4.5 in /Users/nuwanperera/Developer/Machine-Learning-Things/.venv/lib/python3.9/site-packages (from -r requerements.txt (line 18)) (1.4.5)\n",
      "Requirement already satisfied: matplotlib==3.9.0 in /Users/nuwanperera/Developer/Machine-Learning-Things/.venv/lib/python3.9/site-packages (from -r requerements.txt (line 19)) (3.9.0)\n",
      "Requirement already satisfied: matplotlib-inline==0.1.7 in /Users/nuwanperera/Developer/Machine-Learning-Things/.venv/lib/python3.9/site-packages (from -r requerements.txt (line 20)) (0.1.7)\n",
      "Requirement already satisfied: nest-asyncio==1.6.0 in /Users/nuwanperera/Developer/Machine-Learning-Things/.venv/lib/python3.9/site-packages (from -r requerements.txt (line 21)) (1.6.0)\n",
      "Requirement already satisfied: numpy==1.26.4 in /Users/nuwanperera/Developer/Machine-Learning-Things/.venv/lib/python3.9/site-packages (from -r requerements.txt (line 22)) (1.26.4)\n",
      "Requirement already satisfied: packaging==24.0 in /Users/nuwanperera/Developer/Machine-Learning-Things/.venv/lib/python3.9/site-packages (from -r requerements.txt (line 23)) (24.0)\n",
      "Requirement already satisfied: parso==0.8.4 in /Users/nuwanperera/Developer/Machine-Learning-Things/.venv/lib/python3.9/site-packages (from -r requerements.txt (line 24)) (0.8.4)\n",
      "Requirement already satisfied: pexpect==4.9.0 in /Users/nuwanperera/Developer/Machine-Learning-Things/.venv/lib/python3.9/site-packages (from -r requerements.txt (line 25)) (4.9.0)\n",
      "Requirement already satisfied: pillow==10.3.0 in /Users/nuwanperera/Developer/Machine-Learning-Things/.venv/lib/python3.9/site-packages (from -r requerements.txt (line 26)) (10.3.0)\n",
      "Requirement already satisfied: platformdirs==4.2.2 in /Users/nuwanperera/Developer/Machine-Learning-Things/.venv/lib/python3.9/site-packages (from -r requerements.txt (line 27)) (4.2.2)\n",
      "Requirement already satisfied: prompt-toolkit==3.0.43 in /Users/nuwanperera/Developer/Machine-Learning-Things/.venv/lib/python3.9/site-packages (from -r requerements.txt (line 28)) (3.0.43)\n",
      "Requirement already satisfied: psutil==5.9.8 in /Users/nuwanperera/Developer/Machine-Learning-Things/.venv/lib/python3.9/site-packages (from -r requerements.txt (line 29)) (5.9.8)\n",
      "Requirement already satisfied: ptyprocess==0.7.0 in /Users/nuwanperera/Developer/Machine-Learning-Things/.venv/lib/python3.9/site-packages (from -r requerements.txt (line 30)) (0.7.0)\n",
      "Requirement already satisfied: pure-eval==0.2.2 in /Users/nuwanperera/Developer/Machine-Learning-Things/.venv/lib/python3.9/site-packages (from -r requerements.txt (line 31)) (0.2.2)\n",
      "Requirement already satisfied: Pygments==2.18.0 in /Users/nuwanperera/Developer/Machine-Learning-Things/.venv/lib/python3.9/site-packages (from -r requerements.txt (line 32)) (2.18.0)\n",
      "Requirement already satisfied: pyparsing==3.1.2 in /Users/nuwanperera/Developer/Machine-Learning-Things/.venv/lib/python3.9/site-packages (from -r requerements.txt (line 33)) (3.1.2)\n",
      "Requirement already satisfied: python-dateutil==2.9.0.post0 in /Users/nuwanperera/Developer/Machine-Learning-Things/.venv/lib/python3.9/site-packages (from -r requerements.txt (line 34)) (2.9.0.post0)\n",
      "Requirement already satisfied: pyzmq==26.0.3 in /Users/nuwanperera/Developer/Machine-Learning-Things/.venv/lib/python3.9/site-packages (from -r requerements.txt (line 35)) (26.0.3)\n",
      "Requirement already satisfied: six==1.16.0 in /Users/nuwanperera/Developer/Machine-Learning-Things/.venv/lib/python3.9/site-packages (from -r requerements.txt (line 36)) (1.16.0)\n",
      "Requirement already satisfied: stack-data==0.6.3 in /Users/nuwanperera/Developer/Machine-Learning-Things/.venv/lib/python3.9/site-packages (from -r requerements.txt (line 37)) (0.6.3)\n",
      "Requirement already satisfied: tornado==6.4 in /Users/nuwanperera/Developer/Machine-Learning-Things/.venv/lib/python3.9/site-packages (from -r requerements.txt (line 38)) (6.4)\n",
      "Requirement already satisfied: traitlets==5.14.3 in /Users/nuwanperera/Developer/Machine-Learning-Things/.venv/lib/python3.9/site-packages (from -r requerements.txt (line 39)) (5.14.3)\n",
      "Requirement already satisfied: typing_extensions==4.11.0 in /Users/nuwanperera/Developer/Machine-Learning-Things/.venv/lib/python3.9/site-packages (from -r requerements.txt (line 40)) (4.11.0)\n",
      "Requirement already satisfied: wcwidth==0.2.13 in /Users/nuwanperera/Developer/Machine-Learning-Things/.venv/lib/python3.9/site-packages (from -r requerements.txt (line 41)) (0.2.13)\n",
      "Requirement already satisfied: zipp==3.18.2 in /Users/nuwanperera/Developer/Machine-Learning-Things/.venv/lib/python3.9/site-packages (from -r requerements.txt (line 42)) (3.18.2)\n"
     ]
    }
   ],
   "source": [
    "!pip install -r requerements.txt"
   ]
  },
  {
   "cell_type": "code",
   "execution_count": 2,
   "metadata": {},
   "outputs": [],
   "source": [
    "import math\n",
    "import numpy as np"
   ]
  },
  {
   "cell_type": "code",
   "execution_count": 3,
   "metadata": {},
   "outputs": [
    {
     "name": "stdout",
     "output_type": "stream",
     "text": [
      "x_train = [1. 2. 3.]\n",
      "y_train = [300. 500. 700.]\n"
     ]
    }
   ],
   "source": [
    "x_train = np.array([1.0, 2.0, 3.0])\n",
    "y_train = np.array([300.0, 500.0, 700.0])\n",
    "\n",
    "print(f'x_train = { x_train }')\n",
    "print(f'y_train = { y_train }')"
   ]
  },
  {
   "cell_type": "code",
   "execution_count": 4,
   "metadata": {},
   "outputs": [],
   "source": [
    "def compute_cost(x, y, w, b):\n",
    "  m = x.shape[0]\n",
    "  cost = 0\n",
    "\n",
    "  for i in range(m):\n",
    "    f_wb = w * x[i] + b\n",
    "    cost = cost + (f_wb - y[i]) ** 2\n",
    "  total_cost = 1 / (2 * m) * cost\n",
    "  return total_cost\n"
   ]
  },
  {
   "cell_type": "markdown",
   "metadata": {},
   "source": [
    "## Gradient descent summary\n",
    "\n",
    "$$J(w,b) = \\frac{1}{2m} \\sum\\limits_{i = 0}^{m-1} (f_{w,b}(x^{(i)}) - y^{(i)})^2\\tag{2}$$ "
   ]
  },
  {
   "cell_type": "markdown",
   "metadata": {},
   "source": [
    "$$\\begin{align*} \\text{repeat}&\\text{ until convergence:} \\; \\lbrace \\newline\n",
    "\\;  w &= w -  \\alpha \\frac{\\partial J(w,b)}{\\partial w} \\tag{3}  \\; \\newline \n",
    " b &= b -  \\alpha \\frac{\\partial J(w,b)}{\\partial b}  \\newline \\rbrace\n",
    "\\end{align*}$$\n",
    "where, parameters $w$, $b$ are updated simultaneously.  \n",
    "The gradient is defined as:\n",
    "$$\n",
    "\\begin{align}\n",
    "\\frac{\\partial J(w,b)}{\\partial w}  &= \\frac{1}{m} \\sum\\limits_{i = 0}^{m-1} (f_{w,b}(x^{(i)}) - y^{(i)})x^{(i)} \\tag{4}\\\\\n",
    "  \\frac{\\partial J(w,b)}{\\partial b}  &= \\frac{1}{m} \\sum\\limits_{i = 0}^{m-1} (f_{w,b}(x^{(i)}) - y^{(i)}) \\tag{5}\\\\\n",
    "\\end{align}\n",
    "$$"
   ]
  },
  {
   "cell_type": "markdown",
   "metadata": {},
   "source": []
  },
  {
   "cell_type": "code",
   "execution_count": 5,
   "metadata": {},
   "outputs": [],
   "source": [
    "def compute_gradient(x, y, w, b):\n",
    "  '''\n",
    "  Computes the gradient for linear regression\n",
    "\n",
    "  Args:\n",
    "    x (ndarray (m, )): Data, m examples\n",
    "    y (ndarray (m, )): target values\n",
    "    w, b (scalar)    : model parameters\n",
    "\n",
    "    Returns\n",
    "      dj_dw (scaler): The gradient of the cost w.r.t. the parameters w\n",
    "      dj_db (scaler): The gradient of the cost w.r.t. the parameter b\n",
    "  '''\n",
    "\n",
    "  m = x.shape[0]    \n",
    "  dj_dw = 0\n",
    "  dj_db = 0\n",
    "    \n",
    "  for i in range(m):  \n",
    "    f_wb = w * x[i] + b \n",
    "    dj_dw_i = (f_wb - y[i]) * x[i] \n",
    "    dj_db_i = f_wb - y[i] \n",
    "    dj_db += dj_db_i\n",
    "    dj_dw += dj_dw_i \n",
    "  dj_dw = dj_dw / m \n",
    "  dj_db = dj_db / m \n",
    "      \n",
    "  return dj_dw, dj_db\n"
   ]
  },
  {
   "cell_type": "code",
   "execution_count": 6,
   "metadata": {},
   "outputs": [],
   "source": [
    "def gradient_descent(x, y, w_in, b_in, alpha, num_iters, cost_function, gradient_function):\n",
    "  '''\n",
    "  Preforms gredient descent to fit w, b. Updates w, b by taking num_iters gradient steps with learning rate alpha\n",
    "\n",
    "  Args:\n",
    "    x (ndarray (m, ))   : Data, m examples\n",
    "    y (ndarray (m, ))   : target values\n",
    "    w_in, b_in (scalar) : initial values of model parameters\n",
    "    alpha (float)       : Learning rate\n",
    "    num_iters (int)     : number of iterations to run gradient descent\n",
    "    cost_function       : function to call to produce cost\n",
    "    gradient_function   : function to call to produce gradient\n",
    "\n",
    "  Returns:\n",
    "    w (scalar)      : Updated value of parameter after running gradient descent\n",
    "    b (scalar)      : Updated value of parameter after running gradient descent\n",
    "    J_history (List): History of cost values\n",
    "    p_history (list): History of parameters [w, b]\n",
    "  '''\n",
    "\n",
    "  J_history = []\n",
    "  p_history = []\n",
    "  w = w_in\n",
    "  b = b_in\n",
    "\n",
    "  for i in range(num_iters):\n",
    "    dj_dw, dj_db = gradient_function(x, y, w, b)\n",
    "\n",
    "    w = w - alpha * dj_dw\n",
    "    b = b - alpha * dj_db\n",
    "\n",
    "    if i < 100000:\n",
    "      J_history.append(cost_function(x, y, w, b))\n",
    "      p_history.append([w, b])\n",
    "    \n",
    "    if i % math.ceil(num_iters / 10) == 0:\n",
    "      print(f\"Iteration {i:4}: Cost {J_history[-1]:0.2e}  \",\n",
    "            f\"dj_dw: {dj_dw: 0.3e}, dj_db: {dj_db: 0.3e}  \",\n",
    "            f\"w: {w: 0.3e}, b: {b: 0.5e}\")\n",
    "      \n",
    "  return w, b, J_history, p_history\n"
   ]
  },
  {
   "cell_type": "code",
   "execution_count": 7,
   "metadata": {},
   "outputs": [
    {
     "name": "stdout",
     "output_type": "stream",
     "text": [
      "Iteration    0: Cost 1.23e+05   dj_dw: -1.133e+03, dj_db: -5.000e+02   w:  1.133e+01, b:  5.00000e+00\n",
      "Iteration 1000: Cost 6.55e-01   dj_dw:  1.600e-01, dj_db: -3.636e-01   w:  2.013e+02, b:  9.69785e+01\n",
      "Iteration 2000: Cost 5.91e-02   dj_dw:  4.805e-02, dj_db: -1.092e-01   w:  2.004e+02, b:  9.90924e+01\n",
      "Iteration 3000: Cost 5.33e-03   dj_dw:  1.443e-02, dj_db: -3.281e-02   w:  2.001e+02, b:  9.97274e+01\n",
      "Iteration 4000: Cost 4.81e-04   dj_dw:  4.335e-03, dj_db: -9.855e-03   w:  2.000e+02, b:  9.99181e+01\n",
      "Iteration 5000: Cost 4.34e-05   dj_dw:  1.302e-03, dj_db: -2.960e-03   w:  2.000e+02, b:  9.99754e+01\n",
      "Iteration 6000: Cost 3.92e-06   dj_dw:  3.912e-04, dj_db: -8.893e-04   w:  2.000e+02, b:  9.99926e+01\n",
      "Iteration 7000: Cost 3.53e-07   dj_dw:  1.175e-04, dj_db: -2.671e-04   w:  2.000e+02, b:  9.99978e+01\n",
      "Iteration 8000: Cost 3.19e-08   dj_dw:  3.530e-05, dj_db: -8.024e-05   w:  2.000e+02, b:  9.99993e+01\n",
      "Iteration 9000: Cost 2.88e-09   dj_dw:  1.060e-05, dj_db: -2.410e-05   w:  2.000e+02, b:  9.99998e+01\n",
      "\n",
      " (w, b) found by gradient descent: ( 200.0000,  99.9999)\n"
     ]
    }
   ],
   "source": [
    "w_init = 0\n",
    "b_init = 0\n",
    "\n",
    "iterations = 10000\n",
    "tmp_alpha  = 1.0e-2\n",
    "\n",
    "# run gradient descent\n",
    "w_final, b_final, J_hist, p_hist = gradient_descent(x_train, y_train, w_init, b_init, tmp_alpha, iterations, compute_cost, compute_gradient)\n",
    "print(f\"\\n (w, b) found by gradient descent: ({w_final: 8.4f}, {b_final: 8.4f})\")"
   ]
  },
  {
   "cell_type": "markdown",
   "metadata": {},
   "source": [
    "### Predictions"
   ]
  },
  {
   "cell_type": "code",
   "execution_count": 8,
   "metadata": {},
   "outputs": [
    {
     "name": "stdout",
     "output_type": "stream",
     "text": [
      "1000 sqft house prediction 300.0 Thousand dollars\n",
      "1200 sqft house prediction 340.0 Thousand dollars\n",
      "2000 sqft house prediction 500.0 Thousand dollars\n"
     ]
    }
   ],
   "source": [
    "print(f\"1000 sqft house prediction {w_final*1.0 + b_final:0.1f} Thousand dollars\")\n",
    "print(f\"1200 sqft house prediction {w_final*1.2 + b_final:0.1f} Thousand dollars\")\n",
    "print(f\"2000 sqft house prediction {w_final*2.0 + b_final:0.1f} Thousand dollars\")"
   ]
  },
  {
   "cell_type": "code",
   "execution_count": 9,
   "metadata": {},
   "outputs": [
    {
     "name": "stdout",
     "output_type": "stream",
     "text": [
      "Iteration    0: Cost 1.63e+06   dj_dw: -1.133e+03, dj_db: -5.000e+02   w:  9.067e+02, b:  4.00000e+02\n",
      "Iteration    1: Cost 1.93e+07   dj_dw:  3.898e+03, dj_db:  1.713e+03   w: -2.212e+03, b: -9.70667e+02\n",
      "Iteration    2: Cost 2.28e+08   dj_dw: -1.340e+04, dj_db: -5.894e+03   w:  8.505e+03, b:  3.74436e+03\n",
      "Iteration    3: Cost 2.69e+09   dj_dw:  4.604e+04, dj_db:  2.025e+04   w: -2.833e+04, b: -1.24586e+04\n",
      "Iteration    4: Cost 3.18e+10   dj_dw: -1.583e+05, dj_db: -6.962e+04   w:  9.828e+04, b:  4.32368e+04\n",
      "Iteration    5: Cost 3.76e+11   dj_dw:  5.440e+05, dj_db:  2.393e+05   w: -3.369e+05, b: -1.48195e+05\n",
      "Iteration    6: Cost 4.44e+12   dj_dw: -1.870e+06, dj_db: -8.225e+05   w:  1.159e+06, b:  5.09793e+05\n",
      "Iteration    7: Cost 5.25e+13   dj_dw:  6.426e+06, dj_db:  2.827e+06   w: -3.982e+06, b: -1.75183e+06\n",
      "Iteration    8: Cost 6.20e+14   dj_dw: -2.209e+07, dj_db: -9.717e+06   w:  1.369e+07, b:  6.02176e+06\n",
      "Iteration    9: Cost 7.33e+15   dj_dw:  7.592e+07, dj_db:  3.340e+07   w: -4.705e+07, b: -2.06974e+07\n",
      "\n",
      " (w, b) found by gradient descent: (-47050141.7033, -20697430.4432)\n"
     ]
    }
   ],
   "source": [
    "\n",
    "w_init = 0\n",
    "b_init = 0\n",
    "\n",
    "iterations = 10\n",
    "# increse learnign rate\n",
    "tmp_alpha  = 8.0e-1\n",
    "\n",
    "# run gradient descent\n",
    "w_final, b_final, J_hist, p_hist = gradient_descent(x_train, y_train, w_init, b_init, tmp_alpha, iterations, compute_cost, compute_gradient)\n",
    "print(f\"\\n (w, b) found by gradient descent: ({w_final: 8.4f}, {b_final: 8.4f})\")"
   ]
  },
  {
   "cell_type": "code",
   "execution_count": 10,
   "metadata": {},
   "outputs": [
    {
     "name": "stdout",
     "output_type": "stream",
     "text": [
      "1000 sqft house prediction -67747572.1 Thousand dollars\n",
      "1200 sqft house prediction -77157600.5 Thousand dollars\n",
      "2000 sqft house prediction -114797713.8 Thousand dollars\n"
     ]
    }
   ],
   "source": [
    "print(f\"1000 sqft house prediction {w_final*1.0 + b_final:0.1f} Thousand dollars\")\n",
    "print(f\"1200 sqft house prediction {w_final*1.2 + b_final:0.1f} Thousand dollars\")\n",
    "print(f\"2000 sqft house prediction {w_final*2.0 + b_final:0.1f} Thousand dollars\")"
   ]
  }
 ],
 "metadata": {
  "kernelspec": {
   "display_name": ".venv",
   "language": "python",
   "name": "python3"
  },
  "language_info": {
   "codemirror_mode": {
    "name": "ipython",
    "version": 3
   },
   "file_extension": ".py",
   "mimetype": "text/x-python",
   "name": "python",
   "nbconvert_exporter": "python",
   "pygments_lexer": "ipython3",
   "version": "3.9.6"
  }
 },
 "nbformat": 4,
 "nbformat_minor": 2
}
